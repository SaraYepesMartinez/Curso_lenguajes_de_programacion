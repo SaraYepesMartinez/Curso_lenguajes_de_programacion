{
  "nbformat": 4,
  "nbformat_minor": 0,
  "metadata": {
    "colab": {
      "provenance": [],
      "authorship_tag": "ABX9TyOGDGD5hOaRJDzt3SAVbh3N",
      "include_colab_link": true
    },
    "kernelspec": {
      "name": "python3",
      "display_name": "Python 3"
    },
    "language_info": {
      "name": "python"
    }
  },
  "cells": [
    {
      "cell_type": "markdown",
      "metadata": {
        "id": "view-in-github",
        "colab_type": "text"
      },
      "source": [
        "<a href=\"https://colab.research.google.com/github/SaraYepesMartinez/Curso_lenguajes_de_programacion/blob/main/VALOR_PRESENTE_NETO.ipynb\" target=\"_parent\"><img src=\"https://colab.research.google.com/assets/colab-badge.svg\" alt=\"Open In Colab\"/></a>"
      ]
    },
    {
      "cell_type": "markdown",
      "source": [
        "# VALOR PRESENTE NETO\n",
        "El valor presente neto (VPN) es un método financiero que calcula la diferencia entre el valor actual de los flujos de caja de un proyecto y el costo inicial de inversión. Se utiliza para evaluar la rentabilidad de una inversión.\n"
      ],
      "metadata": {
        "id": "dMLGq3QlEBWj"
      }
    },
    {
      "cell_type": "markdown",
      "source": [
        "## ___Fórmula del VPN___\n",
        "\n",
        "$$\n",
        "VPN = \\sum_{t=0}^{n} \\frac{C_t}{(1+r)^t} - C_0\n",
        "$$\n",
        "\n",
        "\n",
        "Donde:\n",
        "\n",
        "\n",
        "*   _Ft_ es el flujo de caja en el periodo t\n",
        "*   _r_ es la tasa de descuento\n",
        "*   _C0_ es la inversión inicial"
      ],
      "metadata": {
        "id": "37GV-ubFEyM-"
      }
    },
    {
      "cell_type": "code",
      "source": [
        "inversion_inicial= 35000000\n",
        "flujo_ano_1= 400000\n",
        "flujo_ano_2= 450000\n",
        "flujo_ano_3= 200000\n",
        "tasa_de_descuento= 0.05"
      ],
      "metadata": {
        "id": "W5w2MzAWE5h_"
      },
      "execution_count": null,
      "outputs": []
    },
    {
      "cell_type": "code",
      "source": [
        "vpn = (flujo_ano_1/((1+tasa_de_descuento)**1)) + \\\n",
        "      (flujo_ano_2/((1+tasa_de_descuento)**2)) + \\\n",
        "      (flujo_ano_3/((1+tasa_de_descuento)**3)) - inversion_inicial\n",
        "\n",
        "print(\"El Valor Presente Neto (VPN) es:\", vpn)"
      ],
      "metadata": {
        "colab": {
          "base_uri": "https://localhost:8080/"
        },
        "id": "-uRFp9NoFLci",
        "outputId": "0406f490-0bc5-479f-e4f9-b92e4b2a4f6f"
      },
      "execution_count": null,
      "outputs": [
        {
          "output_type": "stream",
          "name": "stdout",
          "text": [
            "El Valor Presente Neto (VPN) es: -34038116.8340352\n"
          ]
        }
      ]
    },
    {
      "cell_type": "code",
      "source": [
        "if vpn > 0:\n",
        "  print(\"El proyecto es rentable\")\n",
        "else:\n",
        "  print(\"El proyecto no es rentable\")\n"
      ],
      "metadata": {
        "colab": {
          "base_uri": "https://localhost:8080/"
        },
        "id": "jfli56iMFPqh",
        "outputId": "673199e3-f82f-4811-9780-bef4d86588df"
      },
      "execution_count": null,
      "outputs": [
        {
          "output_type": "stream",
          "name": "stdout",
          "text": [
            "El proyecto no es rentable\n"
          ]
        }
      ]
    }
  ]
}